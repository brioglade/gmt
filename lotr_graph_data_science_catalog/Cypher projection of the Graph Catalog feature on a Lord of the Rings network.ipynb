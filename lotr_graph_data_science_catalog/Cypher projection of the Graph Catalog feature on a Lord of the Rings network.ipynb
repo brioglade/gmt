{
  "cells": [
    {
      "cell_type": "markdown",
      "metadata": {
        "id": "view-in-github",
        "colab_type": "text"
      },
      "source": [
        "<a href=\"https://colab.research.google.com/github/brioglade/gmt/blob/main/lotr_graph_data_science_catalog/Cypher%20projection%20of%20the%20Graph%20Catalog%20feature%20on%20a%20Lord%20of%20the%20Rings%20network.ipynb\" target=\"_parent\"><img src=\"https://colab.research.google.com/assets/colab-badge.svg\" alt=\"Open In Colab\"/></a>"
      ]
    },
    {
      "cell_type": "markdown",
      "source": [
        "* Updated to GDS 2.0 version\n",
        "* Link to original blog post: https://towardsdatascience.com/how-to-use-cypher-projection-in-neo4j-graph-data-science-library-on-a-lord-of-the-rings-social-b3459138c4f1"
      ],
      "metadata": {
        "id": "UCDl1zQhxjA6"
      }
    },
    {
      "cell_type": "code",
      "source": [
        "!pip install neo4j"
      ],
      "metadata": {
        "id": "v5NVMOs8xuh3",
        "outputId": "7008e42b-8175-4d4b-cfe1-c3ac36b37804",
        "colab": {
          "base_uri": "https://localhost:8080/"
        }
      },
      "execution_count": 1,
      "outputs": [
        {
          "output_type": "stream",
          "name": "stdout",
          "text": [
            "Looking in indexes: https://pypi.org/simple, https://us-python.pkg.dev/colab-wheels/public/simple/\n",
            "Collecting neo4j\n",
            "  Downloading neo4j-5.4.0.tar.gz (162 kB)\n",
            "\u001b[2K     \u001b[90m━━━━━━━━━━━━━━━━━━━━━━━━━━━━━━━━━━━━━━\u001b[0m \u001b[32m162.5/162.5 KB\u001b[0m \u001b[31m14.7 MB/s\u001b[0m eta \u001b[36m0:00:00\u001b[0m\n",
            "\u001b[?25h  Installing build dependencies ... \u001b[?25l\u001b[?25hdone\n",
            "  Getting requirements to build wheel ... \u001b[?25l\u001b[?25hdone\n",
            "  Installing backend dependencies ... \u001b[?25l\u001b[?25hdone\n",
            "  Preparing metadata (pyproject.toml) ... \u001b[?25l\u001b[?25hdone\n",
            "\u001b[33m  WARNING: Generating metadata for package neo4j produced metadata for project name unknown. Fix your #egg=neo4j fragments.\u001b[0m\u001b[33m\n",
            "\u001b[0mDiscarding \u001b[4;34mhttps://files.pythonhosted.org/packages/01/b1/f0fe9bc5f59d54bd0ff74afdfdc58911aaab53315f2ed40087b018eb54f8/neo4j-5.4.0.tar.gz#sha256=50293f716412cc8a0fc87c364b0da105aa439859d28ffa5c89f5ca0d44514049 (from https://pypi.org/simple/neo4j/) (requires-python:>=3.7)\u001b[0m: \u001b[33mRequested unknown from https://files.pythonhosted.org/packages/01/b1/f0fe9bc5f59d54bd0ff74afdfdc58911aaab53315f2ed40087b018eb54f8/neo4j-5.4.0.tar.gz#sha256=50293f716412cc8a0fc87c364b0da105aa439859d28ffa5c89f5ca0d44514049 has inconsistent name: filename has 'neo4j', but metadata has 'unknown'\u001b[0m\n",
            "  Downloading neo4j-5.3.0.tar.gz (157 kB)\n",
            "\u001b[2K     \u001b[90m━━━━━━━━━━━━━━━━━━━━━━━━━━━━━━━━━━━━━━\u001b[0m \u001b[32m157.8/157.8 KB\u001b[0m \u001b[31m18.4 MB/s\u001b[0m eta \u001b[36m0:00:00\u001b[0m\n",
            "\u001b[?25h  Installing build dependencies ... \u001b[?25l\u001b[?25hdone\n",
            "  Getting requirements to build wheel ... \u001b[?25l\u001b[?25hdone\n",
            "  Installing backend dependencies ... \u001b[?25l\u001b[?25hdone\n",
            "  Preparing metadata (pyproject.toml) ... \u001b[?25l\u001b[?25hdone\n",
            "\u001b[33m  WARNING: Generating metadata for package neo4j produced metadata for project name unknown. Fix your #egg=neo4j fragments.\u001b[0m\u001b[33m\n",
            "\u001b[0mDiscarding \u001b[4;34mhttps://files.pythonhosted.org/packages/56/84/c4ac67441e6f2c68e859e64631d6a218a922a2aca0603dcf96ff99f17734/neo4j-5.3.0.tar.gz#sha256=0c1c7d8812eed60da0a442d1e0f35edbda248255703e506a081cb70e083b3b5c (from https://pypi.org/simple/neo4j/) (requires-python:>=3.7)\u001b[0m: \u001b[33mRequested unknown from https://files.pythonhosted.org/packages/56/84/c4ac67441e6f2c68e859e64631d6a218a922a2aca0603dcf96ff99f17734/neo4j-5.3.0.tar.gz#sha256=0c1c7d8812eed60da0a442d1e0f35edbda248255703e506a081cb70e083b3b5c has inconsistent name: filename has 'neo4j', but metadata has 'unknown'\u001b[0m\n",
            "  Downloading neo4j-5.2.1.tar.gz (174 kB)\n",
            "\u001b[2K     \u001b[90m━━━━━━━━━━━━━━━━━━━━━━━━━━━━━━━━━━━━━━\u001b[0m \u001b[32m174.2/174.2 KB\u001b[0m \u001b[31m21.5 MB/s\u001b[0m eta \u001b[36m0:00:00\u001b[0m\n",
            "\u001b[?25h  Preparing metadata (setup.py) ... \u001b[?25l\u001b[?25hdone\n",
            "Requirement already satisfied: pytz in /usr/local/lib/python3.8/dist-packages (from neo4j) (2022.7)\n",
            "Building wheels for collected packages: neo4j\n",
            "  Building wheel for neo4j (setup.py) ... \u001b[?25l\u001b[?25hdone\n",
            "  Created wheel for neo4j: filename=neo4j-5.2.1-py3-none-any.whl size=249499 sha256=7bd8ed85f6c924e2ae202ce0c8c9a3ce28a2dd90a39f9cb6ba3e5498384ba6d7\n",
            "  Stored in directory: /root/.cache/pip/wheels/3f/cb/09/5c56a88c1650f9d4fe57e59d9a67a5d77fcef88f55d5c233f1\n",
            "Successfully built neo4j\n",
            "Installing collected packages: neo4j\n",
            "Successfully installed neo4j-5.2.1\n"
          ]
        }
      ]
    },
    {
      "cell_type": "code",
      "execution_count": 2,
      "metadata": {
        "id": "dKEx3tMNxgdH"
      },
      "outputs": [],
      "source": [
        "# Define Neo4j connections\n",
        "from neo4j import GraphDatabase\n",
        "host = 'bolt://44.200.59.14:7687'\n",
        "user = 'neo4j'\n",
        "password = 'appropriation-half-accusations'\n",
        "driver = GraphDatabase.driver(host,auth=(user, password))"
      ]
    },
    {
      "cell_type": "code",
      "execution_count": 3,
      "metadata": {
        "id": "nngbaZV-xgdL"
      },
      "outputs": [],
      "source": [
        "# Import libraries\n",
        "import pandas as pd\n",
        "\n",
        "def read_query(query):\n",
        "    with driver.session() as session:\n",
        "        result = session.run(query)\n",
        "        return pd.DataFrame([r.values() for r in result], columns=result.keys())\n",
        "    \n",
        "def run_query(query):\n",
        "    with driver.session() as session:\n",
        "        session.run(query)"
      ]
    },
    {
      "cell_type": "markdown",
      "metadata": {
        "id": "CP9OcX0cxgdM"
      },
      "source": [
        "## Import\n",
        "\n",
        "I have used the GoT dataset more times than I can remember, so I decided to explore the internet and search for new exciting graphs. I stumbled upon this Lord of the Rings dataset made available by José Calvo that we will use in this blog post.\n",
        "\n",
        "The dataset describes interactions between persons, places, groups, and things (The Ring). When choosing how to model this dataset, I decided to have \"main\" nodes with two labels, primary label \"Node\" and secondary label one of the following:\n",
        "\n",
        "* Person\n",
        "* Place\n",
        "* Group\n",
        "* Thing"
      ]
    },
    {
      "cell_type": "code",
      "execution_count": 4,
      "metadata": {
        "id": "YEZ77pXKxgdO"
      },
      "outputs": [],
      "source": [
        "# Import nodes\n",
        "import_nodes_query = \"\"\"\n",
        "\n",
        "LOAD CSV WITH HEADERS FROM \n",
        "\"https://raw.githubusercontent.com/morethanbooks/projects/master/LotR/ontologies/ontology.csv\" as row \n",
        "FIELDTERMINATOR \"\\t\" \n",
        "WITH row, CASE row.type WHEN 'per' THEN 'Person' \n",
        "                        WHEN 'gro' THEN 'Group' \n",
        "                        WHEN 'thin'THEN 'Thing' \n",
        "                        WHEN 'pla' THEN 'Place' \n",
        "                        END as label \n",
        "CALL apoc.create.nodes(['Node',label], [apoc.map.clean(row,['type','subtype'],[null,\"\"])]) YIELD node \n",
        "WITH node, row.subtype as class \n",
        "MERGE (c:Class{id:class}) \n",
        "MERGE (node)-[:PART_OF]->(c)\n",
        "\n",
        "\"\"\"\n",
        "\n",
        "run_query(import_nodes_query)"
      ]
    },
    {
      "cell_type": "code",
      "execution_count": 5,
      "metadata": {
        "id": "0ZsVljucxgdP"
      },
      "outputs": [],
      "source": [
        "# Import relationships\n",
        "import_relationships_query = \"\"\"\n",
        "\n",
        "UNWIND ['1','2','3'] as book \n",
        "LOAD CSV WITH HEADERS FROM \n",
        "\"https://raw.githubusercontent.com/morethanbooks/projects/master/LotR/tables/networks-id-volume\" + book + \".csv\" AS row \n",
        "MATCH (source:Node{id:coalesce(row.IdSource,row.Source)})\n",
        "MATCH (target:Node{id:coalesce(row.IdTarget,row.Target)})\n",
        "CALL apoc.create.relationship(source, \"INTERACTS_\" + book, \n",
        "     {weight:toInteger(row.Weight)}, target) YIELD rel\n",
        "RETURN distinct true\n",
        "\n",
        "\"\"\"\n",
        "\n",
        "run_query(import_relationships_query)"
      ]
    },
    {
      "cell_type": "markdown",
      "metadata": {
        "id": "Fl3SqzBkxgdQ"
      },
      "source": [
        "## Graph data science\n",
        "\n",
        "### Cypher projection\n",
        "\n",
        "The general syntax to use cypher projection is:\n",
        "<pre>\n",
        "CALL gds.graph.project.cypher(\n",
        "    graphName: String,\n",
        "    nodeQuery: String,\n",
        "    relationshipQuery: String,\n",
        "    configuration: Map\n",
        ")\n",
        "</pre>\n",
        "Node query is a cypher statement used to describe the nodes we want to project. It must return the internal ids of the nodes and optionally any of their properties. Relationship query, on the other hand, describes the relationships we want to project. The cypher statement should return internal ids of source and target nodes of relationships, and optionally their type and any of their properties."
      ]
    },
    {
      "cell_type": "code",
      "execution_count": 6,
      "metadata": {
        "id": "svjg2O1QxgdQ"
      },
      "outputs": [],
      "source": [
        "def drop_graph(name):\n",
        "    with driver.session() as session:\n",
        "        drop_graph_query = \"\"\"\n",
        "        CALL gds.graph.drop('{}');\n",
        "        \"\"\".format(name)\n",
        "        session.run(drop_graph_query)"
      ]
    },
    {
      "cell_type": "markdown",
      "metadata": {
        "id": "f-C1qjWRxgdR"
      },
      "source": [
        "### Whole graph projection\n",
        "\n",
        "We will begin with a simple scenario and project the whole graph in memory. Adding the column type in the relationship query allows the data science engine to distinguish between relationship types, which in turn gives us an option to filter relationships when executing algorithms."
      ]
    },
    {
      "cell_type": "code",
      "execution_count": 7,
      "metadata": {
        "id": "2UjI0MMZxgdS"
      },
      "outputs": [],
      "source": [
        "whole_graph = \"\"\"\n",
        "CALL gds.graph.project.cypher( 'whole-graph', \n",
        "    // nodeQuery \n",
        "    'MATCH (n) RETURN id(n) AS id', \n",
        "    // relationshipQuery 'MATCH (n)-[r]->(m) \n",
        "    'MATCH (n)-[r]->(m) RETURN id(n) AS source, id(m) AS target, type(r) as type')\n",
        "\"\"\"\n",
        "run_query(whole_graph);"
      ]
    },
    {
      "cell_type": "markdown",
      "metadata": {
        "id": "r2OE6Nx6xgdT"
      },
      "source": [
        "As in the previous blog post, we will start with the weakly connected components algorithm. It is used to examine how many islands or disconnected components are there in our graph, which will help us better understand results from other graph algorithms. Also, sometimes we might want to run other graph algorithms only on the largest connected component."
      ]
    },
    {
      "cell_type": "code",
      "execution_count": 8,
      "metadata": {
        "id": "zIEZbSXPxgdT",
        "outputId": "c5fae75a-9c55-4650-e169-4154e6d607ff",
        "colab": {
          "base_uri": "https://localhost:8080/",
          "height": 363
        }
      },
      "outputs": [
        {
          "output_type": "execute_result",
          "data": {
            "text/plain": [
              "   componentId   size\n",
              "0           38  25424\n",
              "1        28161   1522\n",
              "2         5000     86\n",
              "3        28283     17\n",
              "4        28301      9\n",
              "5        28306      9\n",
              "6            6      1\n",
              "7            5      1\n",
              "8            2      1\n",
              "9            9      1"
            ],
            "text/html": [
              "\n",
              "  <div id=\"df-94a9dd85-d9ba-4c83-97d1-aa958ae49fcf\">\n",
              "    <div class=\"colab-df-container\">\n",
              "      <div>\n",
              "<style scoped>\n",
              "    .dataframe tbody tr th:only-of-type {\n",
              "        vertical-align: middle;\n",
              "    }\n",
              "\n",
              "    .dataframe tbody tr th {\n",
              "        vertical-align: top;\n",
              "    }\n",
              "\n",
              "    .dataframe thead th {\n",
              "        text-align: right;\n",
              "    }\n",
              "</style>\n",
              "<table border=\"1\" class=\"dataframe\">\n",
              "  <thead>\n",
              "    <tr style=\"text-align: right;\">\n",
              "      <th></th>\n",
              "      <th>componentId</th>\n",
              "      <th>size</th>\n",
              "    </tr>\n",
              "  </thead>\n",
              "  <tbody>\n",
              "    <tr>\n",
              "      <th>0</th>\n",
              "      <td>38</td>\n",
              "      <td>25424</td>\n",
              "    </tr>\n",
              "    <tr>\n",
              "      <th>1</th>\n",
              "      <td>28161</td>\n",
              "      <td>1522</td>\n",
              "    </tr>\n",
              "    <tr>\n",
              "      <th>2</th>\n",
              "      <td>5000</td>\n",
              "      <td>86</td>\n",
              "    </tr>\n",
              "    <tr>\n",
              "      <th>3</th>\n",
              "      <td>28283</td>\n",
              "      <td>17</td>\n",
              "    </tr>\n",
              "    <tr>\n",
              "      <th>4</th>\n",
              "      <td>28301</td>\n",
              "      <td>9</td>\n",
              "    </tr>\n",
              "    <tr>\n",
              "      <th>5</th>\n",
              "      <td>28306</td>\n",
              "      <td>9</td>\n",
              "    </tr>\n",
              "    <tr>\n",
              "      <th>6</th>\n",
              "      <td>6</td>\n",
              "      <td>1</td>\n",
              "    </tr>\n",
              "    <tr>\n",
              "      <th>7</th>\n",
              "      <td>5</td>\n",
              "      <td>1</td>\n",
              "    </tr>\n",
              "    <tr>\n",
              "      <th>8</th>\n",
              "      <td>2</td>\n",
              "      <td>1</td>\n",
              "    </tr>\n",
              "    <tr>\n",
              "      <th>9</th>\n",
              "      <td>9</td>\n",
              "      <td>1</td>\n",
              "    </tr>\n",
              "  </tbody>\n",
              "</table>\n",
              "</div>\n",
              "      <button class=\"colab-df-convert\" onclick=\"convertToInteractive('df-94a9dd85-d9ba-4c83-97d1-aa958ae49fcf')\"\n",
              "              title=\"Convert this dataframe to an interactive table.\"\n",
              "              style=\"display:none;\">\n",
              "        \n",
              "  <svg xmlns=\"http://www.w3.org/2000/svg\" height=\"24px\"viewBox=\"0 0 24 24\"\n",
              "       width=\"24px\">\n",
              "    <path d=\"M0 0h24v24H0V0z\" fill=\"none\"/>\n",
              "    <path d=\"M18.56 5.44l.94 2.06.94-2.06 2.06-.94-2.06-.94-.94-2.06-.94 2.06-2.06.94zm-11 1L8.5 8.5l.94-2.06 2.06-.94-2.06-.94L8.5 2.5l-.94 2.06-2.06.94zm10 10l.94 2.06.94-2.06 2.06-.94-2.06-.94-.94-2.06-.94 2.06-2.06.94z\"/><path d=\"M17.41 7.96l-1.37-1.37c-.4-.4-.92-.59-1.43-.59-.52 0-1.04.2-1.43.59L10.3 9.45l-7.72 7.72c-.78.78-.78 2.05 0 2.83L4 21.41c.39.39.9.59 1.41.59.51 0 1.02-.2 1.41-.59l7.78-7.78 2.81-2.81c.8-.78.8-2.07 0-2.86zM5.41 20L4 18.59l7.72-7.72 1.47 1.35L5.41 20z\"/>\n",
              "  </svg>\n",
              "      </button>\n",
              "      \n",
              "  <style>\n",
              "    .colab-df-container {\n",
              "      display:flex;\n",
              "      flex-wrap:wrap;\n",
              "      gap: 12px;\n",
              "    }\n",
              "\n",
              "    .colab-df-convert {\n",
              "      background-color: #E8F0FE;\n",
              "      border: none;\n",
              "      border-radius: 50%;\n",
              "      cursor: pointer;\n",
              "      display: none;\n",
              "      fill: #1967D2;\n",
              "      height: 32px;\n",
              "      padding: 0 0 0 0;\n",
              "      width: 32px;\n",
              "    }\n",
              "\n",
              "    .colab-df-convert:hover {\n",
              "      background-color: #E2EBFA;\n",
              "      box-shadow: 0px 1px 2px rgba(60, 64, 67, 0.3), 0px 1px 3px 1px rgba(60, 64, 67, 0.15);\n",
              "      fill: #174EA6;\n",
              "    }\n",
              "\n",
              "    [theme=dark] .colab-df-convert {\n",
              "      background-color: #3B4455;\n",
              "      fill: #D2E3FC;\n",
              "    }\n",
              "\n",
              "    [theme=dark] .colab-df-convert:hover {\n",
              "      background-color: #434B5C;\n",
              "      box-shadow: 0px 1px 3px 1px rgba(0, 0, 0, 0.15);\n",
              "      filter: drop-shadow(0px 1px 2px rgba(0, 0, 0, 0.3));\n",
              "      fill: #FFFFFF;\n",
              "    }\n",
              "  </style>\n",
              "\n",
              "      <script>\n",
              "        const buttonEl =\n",
              "          document.querySelector('#df-94a9dd85-d9ba-4c83-97d1-aa958ae49fcf button.colab-df-convert');\n",
              "        buttonEl.style.display =\n",
              "          google.colab.kernel.accessAllowed ? 'block' : 'none';\n",
              "\n",
              "        async function convertToInteractive(key) {\n",
              "          const element = document.querySelector('#df-94a9dd85-d9ba-4c83-97d1-aa958ae49fcf');\n",
              "          const dataTable =\n",
              "            await google.colab.kernel.invokeFunction('convertToInteractive',\n",
              "                                                     [key], {});\n",
              "          if (!dataTable) return;\n",
              "\n",
              "          const docLinkHtml = 'Like what you see? Visit the ' +\n",
              "            '<a target=\"_blank\" href=https://colab.research.google.com/notebooks/data_table.ipynb>data table notebook</a>'\n",
              "            + ' to learn more about interactive tables.';\n",
              "          element.innerHTML = '';\n",
              "          dataTable['output_type'] = 'display_data';\n",
              "          await google.colab.output.renderOutput(dataTable, element);\n",
              "          const docLink = document.createElement('div');\n",
              "          docLink.innerHTML = docLinkHtml;\n",
              "          element.appendChild(docLink);\n",
              "        }\n",
              "      </script>\n",
              "    </div>\n",
              "  </div>\n",
              "  "
            ]
          },
          "metadata": {},
          "execution_count": 8
        }
      ],
      "source": [
        "wcc_whole = \"\"\"\n",
        "\n",
        "CALL gds.wcc.stream('whole-graph') \n",
        "YIELD nodeId, componentId \n",
        "RETURN componentId, count(*) as size \n",
        "ORDER BY size DESC LIMIT 10\n",
        "\n",
        "\"\"\"\n",
        "read_query(wcc_whole)"
      ]
    },
    {
      "cell_type": "markdown",
      "metadata": {
        "id": "NeR2qVpzxgdU"
      },
      "source": [
        "As there is only one connected component in our graph, we don't have to worry about skewed results from other graph algorithms."
      ]
    },
    {
      "cell_type": "code",
      "execution_count": 9,
      "metadata": {
        "id": "pzU7xt9axgdV"
      },
      "outputs": [],
      "source": [
        "# Drop whole graph\n",
        "drop_graph('whole-graph')"
      ]
    },
    {
      "cell_type": "markdown",
      "metadata": {
        "id": "8eVbwP2cxgdV"
      },
      "source": [
        "### Undirected weighted relationships graph\n",
        "\n",
        "Next, we are going to project an undirected weighted graph. Let's take a look at how does the native projection handle undirected relationships:\n",
        "\n",
        "* UNDIRECTED: each relationship is projected in both natural and reverse orientation\n",
        "\n",
        "To produce an undirected relationship with the cypher projection, we project a single relationship in both directions, effectively allowing the graph data science engine to traverse the relationship in both directions. Let's take a look at the following example to gain a better understanding. We create two nodes with a single relationship between them.\n",
        "\n",
        "<pre>\n",
        "CREATE (:Test)-[:REL]->(:Test);\n",
        "</pre>\n",
        "\n",
        "To project the relationship in both directions, we only have to omit the direction of the relationship in our <code>MATCH</code> statement and that's it. A tiny, but very important detail!\n",
        "\n",
        "<pre>\n",
        "MATCH (n:Test)-[r]-(m:Test)\n",
        "RETURN id(n) as source, id(m) as target;\n",
        "</pre>\n",
        "\n",
        "Results\n",
        "\n",
        "|source |\ttarget |\n",
        "|-------|----------|\n",
        "|1565   |\t1566   |\n",
        "|1566   |\t1565   |\n",
        "\n",
        "We will also demonstrate a favorable way to project multiple node labels using a UNION statement in the node query."
      ]
    },
    {
      "cell_type": "code",
      "execution_count": 10,
      "metadata": {
        "id": "ZD6JxJKFxgdV"
      },
      "outputs": [],
      "source": [
        "undirected_interacts_query = \"\"\"\n",
        "CALL gds.graph.project.cypher('undirected_interactions', \n",
        "    // nodeQuery \n",
        "    'MATCH (n:Person) RETURN id(n) AS id \n",
        "     UNION MATCH (n:Thing) \n",
        "     RETURN id(n) as id', \n",
        "    // relationshipQuery (notice no direction on relationship) \n",
        "    'MATCH (n)-[r:INTERACTS_1|INTERACTS_2|INTERACTS_3]-(m) \n",
        "     RETURN id(n) AS source, id(m) AS target, type(r) as type, r.weight as weight',\n",
        "     {validateRelationships:false})\n",
        "\"\"\"\n",
        "run_query(undirected_interacts_query)"
      ]
    },
    {
      "cell_type": "markdown",
      "metadata": {
        "id": "c8b7yVBoxgdW"
      },
      "source": [
        "### Random walk algorithm\n",
        "\n",
        "To stray away from the common graph algorithms like PageRank or Louvain, let's use the Random Walk algorithm. In essence, it mimics how a drunk person would traverse our graph. It is commonly used in the node2vec algorithms. We define Frodo as the start node and then walk five random steps twice."
      ]
    },
    {
      "cell_type": "code",
      "execution_count": 11,
      "metadata": {
        "id": "Rd24h7UkxgdW",
        "outputId": "acb8a536-a623-4c30-daef-96c851a52861",
        "colab": {
          "base_uri": "https://localhost:8080/",
          "height": 363
        }
      },
      "outputs": [
        {
          "output_type": "error",
          "ename": "ClientError",
          "evalue": "ignored",
          "traceback": [
            "\u001b[0;31m---------------------------------------------------------------------------\u001b[0m",
            "\u001b[0;31mClientError\u001b[0m                               Traceback (most recent call last)",
            "\u001b[0;32m<ipython-input-11-92909bf1afdb>\u001b[0m in \u001b[0;36m<module>\u001b[0;34m\u001b[0m\n\u001b[1;32m      9\u001b[0m \"\"\"\n\u001b[1;32m     10\u001b[0m \u001b[0;34m\u001b[0m\u001b[0m\n\u001b[0;32m---> 11\u001b[0;31m \u001b[0mread_query\u001b[0m\u001b[0;34m(\u001b[0m\u001b[0mrandom_walk\u001b[0m\u001b[0;34m)\u001b[0m\u001b[0;34m\u001b[0m\u001b[0;34m\u001b[0m\u001b[0m\n\u001b[0m",
            "\u001b[0;32m<ipython-input-3-faa3806446bd>\u001b[0m in \u001b[0;36mread_query\u001b[0;34m(query)\u001b[0m\n\u001b[1;32m      4\u001b[0m \u001b[0;32mdef\u001b[0m \u001b[0mread_query\u001b[0m\u001b[0;34m(\u001b[0m\u001b[0mquery\u001b[0m\u001b[0;34m)\u001b[0m\u001b[0;34m:\u001b[0m\u001b[0;34m\u001b[0m\u001b[0;34m\u001b[0m\u001b[0m\n\u001b[1;32m      5\u001b[0m     \u001b[0;32mwith\u001b[0m \u001b[0mdriver\u001b[0m\u001b[0;34m.\u001b[0m\u001b[0msession\u001b[0m\u001b[0;34m(\u001b[0m\u001b[0;34m)\u001b[0m \u001b[0;32mas\u001b[0m \u001b[0msession\u001b[0m\u001b[0;34m:\u001b[0m\u001b[0;34m\u001b[0m\u001b[0;34m\u001b[0m\u001b[0m\n\u001b[0;32m----> 6\u001b[0;31m         \u001b[0mresult\u001b[0m \u001b[0;34m=\u001b[0m \u001b[0msession\u001b[0m\u001b[0;34m.\u001b[0m\u001b[0mrun\u001b[0m\u001b[0;34m(\u001b[0m\u001b[0mquery\u001b[0m\u001b[0;34m)\u001b[0m\u001b[0;34m\u001b[0m\u001b[0;34m\u001b[0m\u001b[0m\n\u001b[0m\u001b[1;32m      7\u001b[0m         \u001b[0;32mreturn\u001b[0m \u001b[0mpd\u001b[0m\u001b[0;34m.\u001b[0m\u001b[0mDataFrame\u001b[0m\u001b[0;34m(\u001b[0m\u001b[0;34m[\u001b[0m\u001b[0mr\u001b[0m\u001b[0;34m.\u001b[0m\u001b[0mvalues\u001b[0m\u001b[0;34m(\u001b[0m\u001b[0;34m)\u001b[0m \u001b[0;32mfor\u001b[0m \u001b[0mr\u001b[0m \u001b[0;32min\u001b[0m \u001b[0mresult\u001b[0m\u001b[0;34m]\u001b[0m\u001b[0;34m,\u001b[0m \u001b[0mcolumns\u001b[0m\u001b[0;34m=\u001b[0m\u001b[0mresult\u001b[0m\u001b[0;34m.\u001b[0m\u001b[0mkeys\u001b[0m\u001b[0;34m(\u001b[0m\u001b[0;34m)\u001b[0m\u001b[0;34m)\u001b[0m\u001b[0;34m\u001b[0m\u001b[0;34m\u001b[0m\u001b[0m\n\u001b[1;32m      8\u001b[0m \u001b[0;34m\u001b[0m\u001b[0m\n",
            "\u001b[0;32m/usr/local/lib/python3.8/dist-packages/neo4j/_sync/work/session.py\u001b[0m in \u001b[0;36mrun\u001b[0;34m(self, query, parameters, **kwargs)\u001b[0m\n\u001b[1;32m    292\u001b[0m         \u001b[0mbookmarks\u001b[0m \u001b[0;34m=\u001b[0m \u001b[0mself\u001b[0m\u001b[0;34m.\u001b[0m\u001b[0m_get_all_bookmarks\u001b[0m\u001b[0;34m(\u001b[0m\u001b[0;34m)\u001b[0m\u001b[0;34m\u001b[0m\u001b[0;34m\u001b[0m\u001b[0m\n\u001b[1;32m    293\u001b[0m         \u001b[0mparameters\u001b[0m \u001b[0;34m=\u001b[0m \u001b[0mdict\u001b[0m\u001b[0;34m(\u001b[0m\u001b[0mparameters\u001b[0m \u001b[0;32mor\u001b[0m \u001b[0;34m{\u001b[0m\u001b[0;34m}\u001b[0m\u001b[0;34m,\u001b[0m \u001b[0;34m**\u001b[0m\u001b[0mkwargs\u001b[0m\u001b[0;34m)\u001b[0m\u001b[0;34m\u001b[0m\u001b[0;34m\u001b[0m\u001b[0m\n\u001b[0;32m--> 294\u001b[0;31m         self._auto_result._run(\n\u001b[0m\u001b[1;32m    295\u001b[0m             \u001b[0mquery\u001b[0m\u001b[0;34m,\u001b[0m \u001b[0mparameters\u001b[0m\u001b[0;34m,\u001b[0m \u001b[0mself\u001b[0m\u001b[0;34m.\u001b[0m\u001b[0m_config\u001b[0m\u001b[0;34m.\u001b[0m\u001b[0mdatabase\u001b[0m\u001b[0;34m,\u001b[0m\u001b[0;34m\u001b[0m\u001b[0;34m\u001b[0m\u001b[0m\n\u001b[1;32m    296\u001b[0m             \u001b[0mself\u001b[0m\u001b[0;34m.\u001b[0m\u001b[0m_config\u001b[0m\u001b[0;34m.\u001b[0m\u001b[0mimpersonated_user\u001b[0m\u001b[0;34m,\u001b[0m \u001b[0mself\u001b[0m\u001b[0;34m.\u001b[0m\u001b[0m_config\u001b[0m\u001b[0;34m.\u001b[0m\u001b[0mdefault_access_mode\u001b[0m\u001b[0;34m,\u001b[0m\u001b[0;34m\u001b[0m\u001b[0;34m\u001b[0m\u001b[0m\n",
            "\u001b[0;32m/usr/local/lib/python3.8/dist-packages/neo4j/_sync/work/result.py\u001b[0m in \u001b[0;36m_run\u001b[0;34m(self, query, parameters, db, imp_user, access_mode, bookmarks)\u001b[0m\n\u001b[1;32m    159\u001b[0m         \u001b[0mself\u001b[0m\u001b[0;34m.\u001b[0m\u001b[0m_pull\u001b[0m\u001b[0;34m(\u001b[0m\u001b[0;34m)\u001b[0m\u001b[0;34m\u001b[0m\u001b[0;34m\u001b[0m\u001b[0m\n\u001b[1;32m    160\u001b[0m         \u001b[0mself\u001b[0m\u001b[0;34m.\u001b[0m\u001b[0m_connection\u001b[0m\u001b[0;34m.\u001b[0m\u001b[0msend_all\u001b[0m\u001b[0;34m(\u001b[0m\u001b[0;34m)\u001b[0m\u001b[0;34m\u001b[0m\u001b[0;34m\u001b[0m\u001b[0m\n\u001b[0;32m--> 161\u001b[0;31m         \u001b[0mself\u001b[0m\u001b[0;34m.\u001b[0m\u001b[0m_attach\u001b[0m\u001b[0;34m(\u001b[0m\u001b[0;34m)\u001b[0m\u001b[0;34m\u001b[0m\u001b[0;34m\u001b[0m\u001b[0m\n\u001b[0m\u001b[1;32m    162\u001b[0m \u001b[0;34m\u001b[0m\u001b[0m\n\u001b[1;32m    163\u001b[0m     \u001b[0;32mdef\u001b[0m \u001b[0m_pull\u001b[0m\u001b[0;34m(\u001b[0m\u001b[0mself\u001b[0m\u001b[0;34m)\u001b[0m\u001b[0;34m:\u001b[0m\u001b[0;34m\u001b[0m\u001b[0;34m\u001b[0m\u001b[0m\n",
            "\u001b[0;32m/usr/local/lib/python3.8/dist-packages/neo4j/_sync/work/result.py\u001b[0m in \u001b[0;36m_attach\u001b[0;34m(self)\u001b[0m\n\u001b[1;32m    267\u001b[0m         \u001b[0;32mif\u001b[0m \u001b[0mself\u001b[0m\u001b[0;34m.\u001b[0m\u001b[0m_exhausted\u001b[0m \u001b[0;32mis\u001b[0m \u001b[0;32mFalse\u001b[0m\u001b[0;34m:\u001b[0m\u001b[0;34m\u001b[0m\u001b[0;34m\u001b[0m\u001b[0m\n\u001b[1;32m    268\u001b[0m             \u001b[0;32mwhile\u001b[0m \u001b[0mself\u001b[0m\u001b[0;34m.\u001b[0m\u001b[0m_attached\u001b[0m \u001b[0;32mis\u001b[0m \u001b[0;32mFalse\u001b[0m\u001b[0;34m:\u001b[0m\u001b[0;34m\u001b[0m\u001b[0;34m\u001b[0m\u001b[0m\n\u001b[0;32m--> 269\u001b[0;31m                 \u001b[0mself\u001b[0m\u001b[0;34m.\u001b[0m\u001b[0m_connection\u001b[0m\u001b[0;34m.\u001b[0m\u001b[0mfetch_message\u001b[0m\u001b[0;34m(\u001b[0m\u001b[0;34m)\u001b[0m\u001b[0;34m\u001b[0m\u001b[0;34m\u001b[0m\u001b[0m\n\u001b[0m\u001b[1;32m    270\u001b[0m \u001b[0;34m\u001b[0m\u001b[0m\n\u001b[1;32m    271\u001b[0m     \u001b[0;32mdef\u001b[0m \u001b[0m_buffer\u001b[0m\u001b[0;34m(\u001b[0m\u001b[0mself\u001b[0m\u001b[0;34m,\u001b[0m \u001b[0mn\u001b[0m\u001b[0;34m=\u001b[0m\u001b[0;32mNone\u001b[0m\u001b[0;34m)\u001b[0m\u001b[0;34m:\u001b[0m\u001b[0;34m\u001b[0m\u001b[0;34m\u001b[0m\u001b[0m\n",
            "\u001b[0;32m/usr/local/lib/python3.8/dist-packages/neo4j/_sync/io/_common.py\u001b[0m in \u001b[0;36minner\u001b[0;34m(*args, **kwargs)\u001b[0m\n\u001b[1;32m    178\u001b[0m             \u001b[0;32mdef\u001b[0m \u001b[0minner\u001b[0m\u001b[0;34m(\u001b[0m\u001b[0;34m*\u001b[0m\u001b[0margs\u001b[0m\u001b[0;34m,\u001b[0m \u001b[0;34m**\u001b[0m\u001b[0mkwargs\u001b[0m\u001b[0;34m)\u001b[0m\u001b[0;34m:\u001b[0m\u001b[0;34m\u001b[0m\u001b[0;34m\u001b[0m\u001b[0m\n\u001b[1;32m    179\u001b[0m                 \u001b[0;32mtry\u001b[0m\u001b[0;34m:\u001b[0m\u001b[0;34m\u001b[0m\u001b[0;34m\u001b[0m\u001b[0m\n\u001b[0;32m--> 180\u001b[0;31m                     \u001b[0mfunc\u001b[0m\u001b[0;34m(\u001b[0m\u001b[0;34m*\u001b[0m\u001b[0margs\u001b[0m\u001b[0;34m,\u001b[0m \u001b[0;34m**\u001b[0m\u001b[0mkwargs\u001b[0m\u001b[0;34m)\u001b[0m\u001b[0;34m\u001b[0m\u001b[0;34m\u001b[0m\u001b[0m\n\u001b[0m\u001b[1;32m    181\u001b[0m                 \u001b[0;32mexcept\u001b[0m \u001b[0;34m(\u001b[0m\u001b[0mNeo4jError\u001b[0m\u001b[0;34m,\u001b[0m \u001b[0mServiceUnavailable\u001b[0m\u001b[0;34m,\u001b[0m \u001b[0mSessionExpired\u001b[0m\u001b[0;34m)\u001b[0m \u001b[0;32mas\u001b[0m \u001b[0mexc\u001b[0m\u001b[0;34m:\u001b[0m\u001b[0;34m\u001b[0m\u001b[0;34m\u001b[0m\u001b[0m\n\u001b[1;32m    182\u001b[0m                     \u001b[0;32massert\u001b[0m \u001b[0;32mnot\u001b[0m \u001b[0masyncio\u001b[0m\u001b[0;34m.\u001b[0m\u001b[0miscoroutinefunction\u001b[0m\u001b[0;34m(\u001b[0m\u001b[0mself\u001b[0m\u001b[0;34m.\u001b[0m\u001b[0m__on_error\u001b[0m\u001b[0;34m)\u001b[0m\u001b[0;34m\u001b[0m\u001b[0;34m\u001b[0m\u001b[0m\n",
            "\u001b[0;32m/usr/local/lib/python3.8/dist-packages/neo4j/_sync/io/_bolt.py\u001b[0m in \u001b[0;36mfetch_message\u001b[0;34m(self)\u001b[0m\n\u001b[1;32m    657\u001b[0m             \u001b[0mhydration_hooks\u001b[0m\u001b[0;34m=\u001b[0m\u001b[0mself\u001b[0m\u001b[0;34m.\u001b[0m\u001b[0mresponses\u001b[0m\u001b[0;34m[\u001b[0m\u001b[0;36m0\u001b[0m\u001b[0;34m]\u001b[0m\u001b[0;34m.\u001b[0m\u001b[0mhydration_hooks\u001b[0m\u001b[0;34m\u001b[0m\u001b[0;34m\u001b[0m\u001b[0m\n\u001b[1;32m    658\u001b[0m         )\n\u001b[0;32m--> 659\u001b[0;31m         \u001b[0mres\u001b[0m \u001b[0;34m=\u001b[0m \u001b[0mself\u001b[0m\u001b[0;34m.\u001b[0m\u001b[0m_process_message\u001b[0m\u001b[0;34m(\u001b[0m\u001b[0mtag\u001b[0m\u001b[0;34m,\u001b[0m \u001b[0mfields\u001b[0m\u001b[0;34m)\u001b[0m\u001b[0;34m\u001b[0m\u001b[0;34m\u001b[0m\u001b[0m\n\u001b[0m\u001b[1;32m    660\u001b[0m         \u001b[0mself\u001b[0m\u001b[0;34m.\u001b[0m\u001b[0midle_since\u001b[0m \u001b[0;34m=\u001b[0m \u001b[0mperf_counter\u001b[0m\u001b[0;34m(\u001b[0m\u001b[0;34m)\u001b[0m\u001b[0;34m\u001b[0m\u001b[0;34m\u001b[0m\u001b[0m\n\u001b[1;32m    661\u001b[0m         \u001b[0;32mreturn\u001b[0m \u001b[0mres\u001b[0m\u001b[0;34m\u001b[0m\u001b[0;34m\u001b[0m\u001b[0m\n",
            "\u001b[0;32m/usr/local/lib/python3.8/dist-packages/neo4j/_sync/io/_bolt4.py\u001b[0m in \u001b[0;36m_process_message\u001b[0;34m(self, tag, fields)\u001b[0m\n\u001b[1;32m    324\u001b[0m             \u001b[0mself\u001b[0m\u001b[0;34m.\u001b[0m\u001b[0m_server_state_manager\u001b[0m\u001b[0;34m.\u001b[0m\u001b[0mstate\u001b[0m \u001b[0;34m=\u001b[0m \u001b[0mServerStates\u001b[0m\u001b[0;34m.\u001b[0m\u001b[0mFAILED\u001b[0m\u001b[0;34m\u001b[0m\u001b[0;34m\u001b[0m\u001b[0m\n\u001b[1;32m    325\u001b[0m             \u001b[0;32mtry\u001b[0m\u001b[0;34m:\u001b[0m\u001b[0;34m\u001b[0m\u001b[0;34m\u001b[0m\u001b[0m\n\u001b[0;32m--> 326\u001b[0;31m                 \u001b[0mresponse\u001b[0m\u001b[0;34m.\u001b[0m\u001b[0mon_failure\u001b[0m\u001b[0;34m(\u001b[0m\u001b[0msummary_metadata\u001b[0m \u001b[0;32mor\u001b[0m \u001b[0;34m{\u001b[0m\u001b[0;34m}\u001b[0m\u001b[0;34m)\u001b[0m\u001b[0;34m\u001b[0m\u001b[0;34m\u001b[0m\u001b[0m\n\u001b[0m\u001b[1;32m    327\u001b[0m             \u001b[0;32mexcept\u001b[0m \u001b[0;34m(\u001b[0m\u001b[0mServiceUnavailable\u001b[0m\u001b[0;34m,\u001b[0m \u001b[0mDatabaseUnavailable\u001b[0m\u001b[0;34m)\u001b[0m\u001b[0;34m:\u001b[0m\u001b[0;34m\u001b[0m\u001b[0;34m\u001b[0m\u001b[0m\n\u001b[1;32m    328\u001b[0m                 \u001b[0;32mif\u001b[0m \u001b[0mself\u001b[0m\u001b[0;34m.\u001b[0m\u001b[0mpool\u001b[0m\u001b[0;34m:\u001b[0m\u001b[0;34m\u001b[0m\u001b[0;34m\u001b[0m\u001b[0m\n",
            "\u001b[0;32m/usr/local/lib/python3.8/dist-packages/neo4j/_sync/io/_common.py\u001b[0m in \u001b[0;36mon_failure\u001b[0;34m(self, metadata)\u001b[0m\n\u001b[1;32m    245\u001b[0m         \u001b[0mhandler\u001b[0m \u001b[0;34m=\u001b[0m \u001b[0mself\u001b[0m\u001b[0;34m.\u001b[0m\u001b[0mhandlers\u001b[0m\u001b[0;34m.\u001b[0m\u001b[0mget\u001b[0m\u001b[0;34m(\u001b[0m\u001b[0;34m\"on_summary\"\u001b[0m\u001b[0;34m)\u001b[0m\u001b[0;34m\u001b[0m\u001b[0;34m\u001b[0m\u001b[0m\n\u001b[1;32m    246\u001b[0m         \u001b[0mUtil\u001b[0m\u001b[0;34m.\u001b[0m\u001b[0mcallback\u001b[0m\u001b[0;34m(\u001b[0m\u001b[0mhandler\u001b[0m\u001b[0;34m)\u001b[0m\u001b[0;34m\u001b[0m\u001b[0;34m\u001b[0m\u001b[0m\n\u001b[0;32m--> 247\u001b[0;31m         \u001b[0;32mraise\u001b[0m \u001b[0mNeo4jError\u001b[0m\u001b[0;34m.\u001b[0m\u001b[0mhydrate\u001b[0m\u001b[0;34m(\u001b[0m\u001b[0;34m**\u001b[0m\u001b[0mmetadata\u001b[0m\u001b[0;34m)\u001b[0m\u001b[0;34m\u001b[0m\u001b[0;34m\u001b[0m\u001b[0m\n\u001b[0m\u001b[1;32m    248\u001b[0m \u001b[0;34m\u001b[0m\u001b[0m\n\u001b[1;32m    249\u001b[0m     \u001b[0;32mdef\u001b[0m \u001b[0mon_ignored\u001b[0m\u001b[0;34m(\u001b[0m\u001b[0mself\u001b[0m\u001b[0;34m,\u001b[0m \u001b[0mmetadata\u001b[0m\u001b[0;34m=\u001b[0m\u001b[0;32mNone\u001b[0m\u001b[0;34m)\u001b[0m\u001b[0;34m:\u001b[0m\u001b[0;34m\u001b[0m\u001b[0;34m\u001b[0m\u001b[0m\n",
            "\u001b[0;31mClientError\u001b[0m: {code: Neo.ClientError.Procedure.ProcedureNotFound} {message: There is no procedure with the name `gds.beta.randomWalk.stream` registered for this database instance. Please ensure you've spelled the procedure name correctly and that the procedure is properly deployed.}"
          ]
        }
      ],
      "source": [
        "random_walk = \"\"\"\n",
        "\n",
        "MATCH (n:Node{Label:'Frodo'})\n",
        "CALL gds.beta.randomWalk.stream('undirected_interactions',\n",
        "    {sourceNodes:[n], walkLength:5, walksPerNode:2}) \n",
        "YIELD nodeIds \n",
        "RETURN [nodeId in nodeIds | gds.util.asNode(nodeId).Label] as result\n",
        "\n",
        "\"\"\"\n",
        "\n",
        "read_query(random_walk)"
      ]
    },
    {
      "cell_type": "markdown",
      "metadata": {
        "id": "AvKm1bnPxgdW"
      },
      "source": [
        "You will get different results as it is a random walk algorithm after all.\n",
        "\n",
        "### Triangle count and clustering coefficient\n",
        "\n",
        "Another useful algorithm for analyzing social networks is Triangle Counting and Clustering Coefficient algorithm. A triangle composes of three nodes, where each node has a relationship to the other two. The clustering coefficient is a measure of the degree to which nodes in a graph tend to cluster together. This allows us to estimate how tightly-knit nodes in our graph are."
      ]
    },
    {
      "cell_type": "code",
      "execution_count": null,
      "metadata": {
        "id": "I36BX6sYxgdX"
      },
      "outputs": [],
      "source": [
        "triangle_count = \"\"\"\n",
        "\n",
        "CALL gds.triangleCount.write('undirected_interactions', \n",
        "    {relationshipTypes:['INTERACTS_1'], writeProperty:'triangles'}) \n",
        "\n",
        "\"\"\"\n",
        "\n",
        "read_query(triangle_count)"
      ]
    },
    {
      "cell_type": "code",
      "source": [
        "cc = \"\"\"\n",
        "\n",
        "CALL gds.localClusteringCoefficient.write('undirected_interactions', \n",
        "    {relationshipTypes:['INTERACTS_1'], writeProperty:'clustering'}) \n",
        "\n",
        "\"\"\"\n",
        "\n",
        "read_query(cc)"
      ],
      "metadata": {
        "id": "7RVbsfWfzKp2"
      },
      "execution_count": null,
      "outputs": []
    },
    {
      "cell_type": "markdown",
      "metadata": {
        "id": "b3Okhm3KxgdX"
      },
      "source": [
        "The global or average clustering coefficient is 0.54, which means that the persons in our graph are quite tightly-knit. We can also look at individuals and their local clustering coefficients."
      ]
    },
    {
      "cell_type": "code",
      "execution_count": null,
      "metadata": {
        "id": "pt1vY2_UxgdX"
      },
      "outputs": [],
      "source": [
        "local_clustering = \"\"\"\n",
        "\n",
        "MATCH (p:Person)\n",
        "RETURN p.Label as person,\n",
        "       p.clustering as coefficient,\n",
        "       p.triangles as triangles \n",
        "ORDER BY coefficient DESC LIMIT 5\n",
        "\n",
        "\"\"\"\n",
        "\n",
        "read_query(local_clustering)"
      ]
    },
    {
      "cell_type": "code",
      "execution_count": null,
      "metadata": {
        "id": "jg3Ic-ItxgdY"
      },
      "outputs": [],
      "source": [
        "drop_graph('undirected_interactions')"
      ]
    },
    {
      "cell_type": "markdown",
      "metadata": {
        "id": "Xdju-9NJxgdY"
      },
      "source": [
        "### Categorical PageRank\n",
        "\n",
        "Up until this point, all the above graph analysis could be done with the native projection. Cypher projection can project graphs that exist only at query time or when we want to use more advanced filtering than just node labels or relationship types. \n",
        "\n",
        "Categorical PageRank is a concept first introduced by Kenny Bastani in his blog post. I have also written a blog post about it using the Graph algorithms library. Now it is time to demonstrate it with the Graph Data Science library as well.\n",
        "\n",
        "The idea behind it is pretty simple. As shown in the example above we have a graph of pages that have links between each other and might also belong to one or more categories. To better understand the global pagerank score of nodes in a network, we can breakdown our graph into several subgraphs, one for each category and execute the pagerank algorithm on each of that subgraphs. We store results as a relationship property between category and pages. This way we can break down which are the contributing categories to page’s global pagerank score.\n",
        "\n",
        "We will start by assuming that each interaction is a positive endorsement(I know it's actually not, but let's pretend). We will breakdown our graph into several subgraphs by the class(men, elves), that the characters belong to. For example, when calculating pagerank for the category of men, all nodes will be considered, but only relationships that come from characters that belong to the class of men will be considered."
      ]
    },
    {
      "cell_type": "code",
      "execution_count": null,
      "metadata": {
        "id": "has-2NGjxgdY"
      },
      "outputs": [],
      "source": [
        "categorical_graph = \"\"\"\n",
        "\n",
        "CALL gds.graph.project.cypher( 'categorical_men', \n",
        "    // nodeQuery \n",
        "    'MATCH (n:Person) RETURN id(n) AS id \n",
        "     UNION \n",
        "    MATCH (n:Thing) RETURN id(n) as id',\n",
        "    // relationshipQuery \n",
        "    'MATCH (c:Class)<-[:PART_OF]-(n)-[r:INTERACTS_1|INTERACTS_2|INTERACTS_3]-(m) \n",
        "    // Use the parameter\n",
        "    WHERE c.id = $class \n",
        "    RETURN id(n) AS source, id(m) AS target, r.weight as weight,type(r) as type', \n",
        "    {parameters: { class: 'men' }, validateRelationships:false})\n",
        "\n",
        "\"\"\"\n",
        "\n",
        "run_query(categorical_graph)"
      ]
    },
    {
      "cell_type": "markdown",
      "metadata": {
        "id": "gC5T2_TQxgdZ"
      },
      "source": [
        "Let us now run the weighted pageRank on this graph."
      ]
    },
    {
      "cell_type": "code",
      "execution_count": null,
      "metadata": {
        "id": "5CPnMfgSxgdZ"
      },
      "outputs": [],
      "source": [
        "weighted_pagerank = \"\"\"\n",
        "\n",
        "CALL gds.pageRank.stream('categorical_men',\n",
        "    {relationshipWeightProperty:'weight'})\n",
        "YIELD nodeId, score \n",
        "RETURN gds.util.asNode(nodeId).Label as name, score \n",
        "ORDER BY score DESC LIMIT 5\n",
        "\n",
        "\"\"\"\n",
        "\n",
        "read_query(weighted_pagerank)"
      ]
    },
    {
      "cell_type": "markdown",
      "metadata": {
        "id": "7BjrpxHbxgdZ"
      },
      "source": [
        "Gandalf comes out on top, with Aragorn following very closely in the second place. I am wondering if Aragorn has the most support from men in the third book, as he becomes their king at the end."
      ]
    },
    {
      "cell_type": "code",
      "execution_count": null,
      "metadata": {
        "id": "PraVtr1pxgda"
      },
      "outputs": [],
      "source": [
        "weighted_pagerank_third_book = \"\"\"\n",
        "\n",
        "CALL gds.pageRank.stream('categorical_men', \n",
        "    {relationshipTypes:['INTERACTS_3'],\n",
        "     relationshipWeightProperty:'weight'})\n",
        "YIELD nodeId, score \n",
        "RETURN gds.util.asNode(nodeId).Label as name, score \n",
        "ORDER BY score DESC LIMIT 5\n",
        "\n",
        "\"\"\"\n",
        "\n",
        "read_query(weighted_pagerank_third_book)"
      ]
    },
    {
      "cell_type": "markdown",
      "metadata": {
        "id": "K-AmuK3zxgda"
      },
      "source": [
        "As predicted, Aragorn takes the lead. Frodo is no longer on the list as he is quite isolated from everybody in the third book and walks alone with Sam to Mount Doom. To be honest, if you have Sam by your side, you are never lonely though."
      ]
    },
    {
      "cell_type": "code",
      "execution_count": null,
      "metadata": {
        "id": "h9utghnJxgda"
      },
      "outputs": [],
      "source": [
        "drop_graph('categorical_men')"
      ]
    },
    {
      "cell_type": "markdown",
      "metadata": {
        "id": "EpSQsEQ1xgda"
      },
      "source": [
        "### Virtual categorical graph\n",
        "\n",
        "We have only looked at the class of men and calculated the categorical pagerank for that specific subgraph. It would be very time consuming if we projected a subgraph for each class separately. That is why we will project a subgraph for each class in a single named graph using virtual relationship types. In the relationship query we have the option to return whatever we feel like as the column type. We will return the original relationship type combined with the class of the person to create virtual relationship types. This will allow us to calculate the categorical pagerank for each class."
      ]
    },
    {
      "cell_type": "code",
      "execution_count": null,
      "metadata": {
        "id": "XiQCFfBexgda"
      },
      "outputs": [],
      "source": [
        "virtual_graph = \"\"\"\n",
        "\n",
        "CALL gds.graph.project.cypher('categorical_virtual',\n",
        "    'MATCH (n:Person) RETURN id(n) AS id \n",
        "     UNION MATCH (n:Thing) \n",
        "     RETURN id(n) as id', \n",
        "    'MATCH (c:Class)<-[:PART_OF]-(n)-[r:INTERACTS_1|INTERACTS_2|INTERACTS_3]-(m) \n",
        "     RETURN id(n) AS source, id(m) AS target, type(r) + c.id as type, r.weight as weight',\n",
        "     {validateRelationships:false})\n",
        "\n",
        "\"\"\"\n",
        "\n",
        "run_query(virtual_graph)"
      ]
    },
    {
      "cell_type": "markdown",
      "metadata": {
        "id": "1dO-q6Snxgdb"
      },
      "source": [
        "We can now calculate the categorical pagerank for the class of elves."
      ]
    },
    {
      "cell_type": "code",
      "execution_count": null,
      "metadata": {
        "id": "O4-52O8dxgdb"
      },
      "outputs": [],
      "source": [
        "categorical_elves = \"\"\"\n",
        "\n",
        "CALL gds.pageRank.stream('categorical_virtual',\n",
        "    {relationshipTypes:['INTERACTS_1elves','INTERACTS_2elves','INTERACTS_3elves'],\n",
        "     relationshipWeightProperty:'weight'})\n",
        "YIELD nodeId, score\n",
        "RETURN gds.util.asNode(nodeId).Label as name, score\n",
        "ORDER BY score DESC LIMIT 5\n",
        "\n",
        "\"\"\"\n",
        "\n",
        "read_query(categorical_elves)"
      ]
    },
    {
      "cell_type": "markdown",
      "metadata": {
        "id": "VREMu7Kcxgdb"
      },
      "source": [
        "If we want to calculate categorical pagerank for each class and store the results, we can use the same approach as in the original blog post, where we store the results in the relationship between a class and a person."
      ]
    },
    {
      "cell_type": "code",
      "execution_count": null,
      "metadata": {
        "id": "t0NWfbutxgdb"
      },
      "outputs": [],
      "source": [
        "store_categorical = \"\"\"\n",
        "\n",
        "MATCH (c:Class)\n",
        "WHERE NOT c.id IN ['pla', 'mixed', 'orcs']\n",
        "CALL gds.pageRank.stream('categorical_virtual',\n",
        "    {relationshipTypes:['INTERACTS_1'+c.id,'INTERACTS_2'+c.id,'INTERACTS_3'+c.id],\n",
        "     relationshipWeightProperty:'weight'})\n",
        "YIELD nodeId, score \n",
        "WITH c, gds.util.asNode(nodeId) as node, score \n",
        "WHERE score > 0.151 \n",
        "CREATE (c)-[:PAGERANK{score:score}]->(node)\n",
        "\n",
        "\"\"\"\n",
        "\n",
        "run_query(store_categorical)"
      ]
    },
    {
      "cell_type": "markdown",
      "metadata": {
        "id": "OPLq_I1Kxgdb"
      },
      "source": [
        "We can now get the top three members for each class based on their categorical pagerank score."
      ]
    },
    {
      "cell_type": "code",
      "execution_count": null,
      "metadata": {
        "id": "iqJeX9J9xgdc"
      },
      "outputs": [],
      "source": [
        "top3_by_category = \"\"\"\n",
        "\n",
        "MATCH (c:Class)-[s:PAGERANK]->(p:Person)\n",
        "WITH c, p, s.score as pagerank \n",
        "ORDER BY pagerank DESC \n",
        "RETURN c.id as class,\n",
        "       collect(p.Label)[..3] as top_3_members\n",
        "\n",
        "\"\"\"\n",
        "\n",
        "read_query(top3_by_category)"
      ]
    },
    {
      "cell_type": "code",
      "execution_count": null,
      "metadata": {
        "id": "ucz6Bn-hxgdc"
      },
      "outputs": [],
      "source": []
    }
  ],
  "metadata": {
    "kernelspec": {
      "display_name": "Python 3",
      "language": "python",
      "name": "python3"
    },
    "language_info": {
      "codemirror_mode": {
        "name": "ipython",
        "version": 3
      },
      "file_extension": ".py",
      "mimetype": "text/x-python",
      "name": "python",
      "nbconvert_exporter": "python",
      "pygments_lexer": "ipython3",
      "version": "3.5.2"
    },
    "colab": {
      "name": "Cypher projection of the Graph Catalog feature on a Lord of the Rings network.ipynb",
      "provenance": [],
      "include_colab_link": true
    }
  },
  "nbformat": 4,
  "nbformat_minor": 0
}